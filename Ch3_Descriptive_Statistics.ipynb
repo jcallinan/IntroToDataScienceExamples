{
 "cells": [
  {
   "cell_type": "markdown",
   "id": "8b56b770",
   "metadata": {},
   "source": [
    "# Chapter 3: Descriptive Statistics"
   ]
  },
  {
   "cell_type": "markdown",
   "id": "b0fadb32",
   "metadata": {},
   "source": [
    "### Import Required Libraries"
   ]
  },
  {
   "cell_type": "code",
   "execution_count": null,
   "id": "b58942b9",
   "metadata": {},
   "outputs": [],
   "source": [
    "import pandas as pd\n",
    "import numpy as np\n",
    "import matplotlib.pyplot as plt\n",
    "import seaborn as sns"
   ]
  },
  {
   "cell_type": "markdown",
   "id": "7f1762c9",
   "metadata": {},
   "source": [
    "### Load Sample Dataset (e.g., Iris or Titanic)"
   ]
  },
  {
   "cell_type": "code",
   "execution_count": null,
   "id": "2373deba",
   "metadata": {},
   "outputs": [],
   "source": [
    "df = sns.load_dataset('titanic')\n",
    "df.head()"
   ]
  },
  {
   "cell_type": "markdown",
   "id": "018e808b",
   "metadata": {},
   "source": [
    "### Summary Statistics"
   ]
  },
  {
   "cell_type": "code",
   "execution_count": null,
   "id": "1777e3df",
   "metadata": {},
   "outputs": [],
   "source": [
    "df.describe()"
   ]
  },
  {
   "cell_type": "markdown",
   "id": "70217b57",
   "metadata": {},
   "source": [
    "### Frequency Table for a Categorical Variable"
   ]
  },
  {
   "cell_type": "code",
   "execution_count": null,
   "id": "19d46ab2",
   "metadata": {},
   "outputs": [],
   "source": [
    "df['sex'].value_counts()"
   ]
  },
  {
   "cell_type": "markdown",
   "id": "51cee202",
   "metadata": {},
   "source": [
    "### Handling Missing Data"
   ]
  },
  {
   "cell_type": "code",
   "execution_count": null,
   "id": "03edc490",
   "metadata": {},
   "outputs": [],
   "source": [
    "df.isnull().sum()"
   ]
  },
  {
   "cell_type": "markdown",
   "id": "a9358d4c",
   "metadata": {},
   "source": [
    "### Histogram of Age"
   ]
  },
  {
   "cell_type": "code",
   "execution_count": null,
   "id": "a179095f",
   "metadata": {},
   "outputs": [],
   "source": [
    "plt.hist(df['age'].dropna(), bins=20, color='skyblue', edgecolor='black')\n",
    "plt.title('Age Distribution')\n",
    "plt.xlabel('Age')\n",
    "plt.ylabel('Frequency')\n",
    "plt.grid(True)\n",
    "plt.show()"
   ]
  },
  {
   "cell_type": "markdown",
   "id": "e402e658",
   "metadata": {},
   "source": [
    "### Boxplot to Detect Outliers"
   ]
  },
  {
   "cell_type": "code",
   "execution_count": null,
   "id": "f45a63c6",
   "metadata": {},
   "outputs": [],
   "source": [
    "sns.boxplot(x='age', data=df)\n",
    "plt.title('Boxplot of Age')\n",
    "plt.show()"
   ]
  },
  {
   "cell_type": "markdown",
   "id": "c651d6fa",
   "metadata": {},
   "source": [
    "### Correlation Matrix"
   ]
  },
  {
   "cell_type": "code",
   "execution_count": null,
   "id": "63ca11fc",
   "metadata": {},
   "outputs": [],
   "source": [
    "correlation = df.corr(numeric_only=True)\n",
    "sns.heatmap(correlation, annot=True, cmap='coolwarm')\n",
    "plt.title('Correlation Matrix')\n",
    "plt.show()"
   ]
  }
 ],
 "metadata": {},
 "nbformat": 4,
 "nbformat_minor": 5
}
