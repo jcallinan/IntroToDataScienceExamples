{
 "cells": [
  {
   "cell_type": "markdown",
   "id": "3f12304e",
   "metadata": {},
   "source": [
    "# Chapter 4: Statistical Inference"
   ]
  },
  {
   "cell_type": "markdown",
   "id": "3e9c25ac",
   "metadata": {},
   "source": [
    "### Import Required Libraries"
   ]
  },
  {
   "cell_type": "code",
   "execution_count": null,
   "id": "4dccd1a7",
   "metadata": {},
   "outputs": [],
   "source": [
    "import pandas as pd\n",
    "import numpy as np\n",
    "from scipy import stats\n",
    "import matplotlib.pyplot as plt\n",
    "import seaborn as sns"
   ]
  },
  {
   "cell_type": "markdown",
   "id": "04f2c883",
   "metadata": {},
   "source": [
    "### Simulate Two Sample Groups"
   ]
  },
  {
   "cell_type": "code",
   "execution_count": null,
   "id": "075d7938",
   "metadata": {},
   "outputs": [],
   "source": [
    "np.random.seed(42)\n",
    "group1 = np.random.normal(loc=50, scale=10, size=100)\n",
    "group2 = np.random.normal(loc=53, scale=10, size=100)"
   ]
  },
  {
   "cell_type": "markdown",
   "id": "843d6d71",
   "metadata": {},
   "source": [
    "### Visualize Distributions"
   ]
  },
  {
   "cell_type": "code",
   "execution_count": null,
   "id": "db605b6b",
   "metadata": {},
   "outputs": [],
   "source": [
    "plt.hist(group1, bins=15, alpha=0.5, label='Group 1')\n",
    "plt.hist(group2, bins=15, alpha=0.5, label='Group 2')\n",
    "plt.legend()\n",
    "plt.title('Histogram of Two Groups')\n",
    "plt.xlabel('Value')\n",
    "plt.ylabel('Frequency')\n",
    "plt.show()"
   ]
  },
  {
   "cell_type": "markdown",
   "id": "fa176118",
   "metadata": {},
   "source": [
    "### Descriptive Statistics"
   ]
  },
  {
   "cell_type": "code",
   "execution_count": null,
   "id": "8009fa47",
   "metadata": {},
   "outputs": [],
   "source": [
    "print(f'Group 1 Mean: {np.mean(group1):.2f}, Std: {np.std(group1):.2f}')\n",
    "print(f'Group 2 Mean: {np.mean(group2):.2f}, Std: {np.std(group2):.2f}')"
   ]
  },
  {
   "cell_type": "markdown",
   "id": "f36e6c68",
   "metadata": {},
   "source": [
    "### Independent T-Test"
   ]
  },
  {
   "cell_type": "code",
   "execution_count": null,
   "id": "cb6aac55",
   "metadata": {},
   "outputs": [],
   "source": [
    "t_stat, p_val = stats.ttest_ind(group1, group2)\n",
    "print(f'T-Statistic: {t_stat:.3f}, P-Value: {p_val:.3f}')"
   ]
  },
  {
   "cell_type": "markdown",
   "id": "d6c4940a",
   "metadata": {},
   "source": [
    "### Confidence Interval of the Mean (Group 1)"
   ]
  },
  {
   "cell_type": "code",
   "execution_count": null,
   "id": "9b6e0e6c",
   "metadata": {},
   "outputs": [],
   "source": [
    "conf_int = stats.norm.interval(0.95, loc=np.mean(group1), scale=stats.sem(group1))\n",
    "print(f'95% Confidence Interval: {conf_int}')"
   ]
  },
  {
   "cell_type": "markdown",
   "id": "3f63f6a8",
   "metadata": {},
   "source": [
    "### Hypothesis Test Interpretation"
   ]
  },
  {
   "cell_type": "markdown",
   "id": "76a054b2",
   "metadata": {},
   "source": [
    "- If p < 0.05, reject the null hypothesis: the means are significantly different.\n",
    "- Confidence interval gives plausible values for the population mean.\n",
    "- Always validate assumptions before applying tests."
   ]
  }
 ],
 "metadata": {},
 "nbformat": 4,
 "nbformat_minor": 5
}
