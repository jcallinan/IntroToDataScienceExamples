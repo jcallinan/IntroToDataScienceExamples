{
 "cells": [
  {
   "cell_type": "markdown",
   "id": "4e31e9a0",
   "metadata": {},
   "source": [
    "# Chapter 1 & 2: Intro to Data Science - Code Summary"
   ]
  },
  {
   "cell_type": "markdown",
   "id": "dfbe7928",
   "metadata": {},
   "source": [
    "### Common Imports"
   ]
  },
  {
   "cell_type": "code",
   "execution_count": null,
   "id": "eb7f45b3",
   "metadata": {},
   "outputs": [],
   "source": [
    "import pandas as pd\n",
    "import numpy as np\n",
    "import matplotlib.pyplot as plt"
   ]
  },
  {
   "cell_type": "markdown",
   "id": "85a15b81",
   "metadata": {},
   "source": [
    "### Creating a Basic DataFrame"
   ]
  },
  {
   "cell_type": "code",
   "execution_count": null,
   "id": "3ad50d11",
   "metadata": {},
   "outputs": [],
   "source": [
    "data = {\n",
    "    'year': [2010, 2011, 2012, 2010, 2011, 2012, 2010, 2011, 2012],\n",
    "    'team': ['FCBarcelona', 'FCBarcelona', 'FCBarcelona', 'RMadrid', 'RMadrid', 'RMadrid', 'ValenciaCF', 'ValenciaCF', 'ValenciaCF'],\n",
    "    'wins': [30, 28, 32, 29, 32, 26, 21, 17, 19],\n",
    "    'draws': [6, 7, 4, 5, 4, 7, 8, 10, 8],\n",
    "    'losses': [2, 3, 2, 4, 2, 5, 9, 11, 11]\n",
    "}\n",
    "football = pd.DataFrame(data)\n",
    "football"
   ]
  },
  {
   "cell_type": "markdown",
   "id": "d8de80e9",
   "metadata": {},
   "source": [
    "### Reading and Inspecting a CSV File"
   ]
  },
  {
   "cell_type": "code",
   "execution_count": null,
   "id": "595ec6ba",
   "metadata": {},
   "outputs": [],
   "source": [
    "edu = pd.read_csv('files/ch02/educ_figdp_1_Data.csv', na_values=':', usecols=['TIME', 'GEO', 'Value'])\n",
    "edu.head()"
   ]
  },
  {
   "cell_type": "markdown",
   "id": "db95f5ca",
   "metadata": {},
   "source": [
    "### Describe Dataset Statistics"
   ]
  },
  {
   "cell_type": "code",
   "execution_count": null,
   "id": "31f40423",
   "metadata": {},
   "outputs": [],
   "source": [
    "edu.describe()"
   ]
  },
  {
   "cell_type": "markdown",
   "id": "83641ead",
   "metadata": {},
   "source": [
    "### Selecting Columns"
   ]
  },
  {
   "cell_type": "code",
   "execution_count": null,
   "id": "5b880593",
   "metadata": {},
   "outputs": [],
   "source": [
    "edu['Value'].head()"
   ]
  },
  {
   "cell_type": "markdown",
   "id": "10c9e796",
   "metadata": {},
   "source": [
    "### Slicing Rows"
   ]
  },
  {
   "cell_type": "code",
   "execution_count": null,
   "id": "825c6105",
   "metadata": {},
   "outputs": [],
   "source": [
    "edu[10:14]"
   ]
  },
  {
   "cell_type": "markdown",
   "id": "909e7b6d",
   "metadata": {},
   "source": [
    "### Creating DataFrame from Scratch"
   ]
  },
  {
   "cell_type": "code",
   "execution_count": null,
   "id": "8e637ead",
   "metadata": {},
   "outputs": [],
   "source": [
    "custom_data = {\n",
    "    'Country': ['USA', 'Germany', 'Spain'],\n",
    "    'GDP': [21.43, 4.00, 1.39]\n",
    "}\n",
    "df = pd.DataFrame(custom_data)\n",
    "df"
   ]
  },
  {
   "cell_type": "markdown",
   "id": "da80544d",
   "metadata": {},
   "source": [
    "### Basic Plotting with Matplotlib"
   ]
  },
  {
   "cell_type": "code",
   "execution_count": null,
   "id": "4b36e0fc",
   "metadata": {},
   "outputs": [],
   "source": [
    "years = [2010, 2011, 2012]\n",
    "wins = [30, 28, 32]\n",
    "plt.plot(years, wins, marker='o')\n",
    "plt.title('Team Wins Over Time')\n",
    "plt.xlabel('Year')\n",
    "plt.ylabel('Wins')\n",
    "plt.grid(True)\n",
    "plt.show()"
   ]
  }
 ],
 "metadata": {},
 "nbformat": 4,
 "nbformat_minor": 5
}
